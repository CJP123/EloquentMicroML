{
  "nbformat": 4,
  "nbformat_minor": 0,
  "metadata": {
    "colab": {
      "name": "scratchpad",
      "provenance": [],
      "include_colab_link": true
    },
    "kernelspec": {
      "display_name": "Python 3",
      "name": "python3"
    }
  },
  "cells": [
    {
      "cell_type": "markdown",
      "metadata": {
        "id": "view-in-github",
        "colab_type": "text"
      },
      "source": [
        "<a href=\"https://colab.research.google.com/github/CJP123/EloquentMicroML/blob/master/lists.ipynb\" target=\"_parent\"><img src=\"https://colab.research.google.com/assets/colab-badge.svg\" alt=\"Open In Colab\"/></a>"
      ]
    },
    {
      "cell_type": "code",
      "metadata": {
        "colab": {
          "base_uri": "https://localhost:8080/"
        },
        "id": "lIYdn1woOS1n",
        "outputId": "43b0c542-b7b3-4b8e-93fa-8d48738e310c"
      },
      "source": [
        "mylist = [\"hello\", \"Clive\"]\n",
        "mylist"
      ],
      "execution_count": 1,
      "outputs": [
        {
          "output_type": "execute_result",
          "data": {
            "text/plain": [
              "['hello', 'Clive']"
            ]
          },
          "metadata": {
            "tags": []
          },
          "execution_count": 1
        }
      ]
    },
    {
      "cell_type": "code",
      "metadata": {
        "id": "n6swuVxQ0Q-Y",
        "outputId": "5a63fa84-e100-4949-8ca6-2d66ebe43b95",
        "colab": {
          "base_uri": "https://localhost:8080/"
        }
      },
      "source": [
        "mylist2 = list()\n",
        "mylist2"
      ],
      "execution_count": 4,
      "outputs": [
        {
          "output_type": "execute_result",
          "data": {
            "text/plain": [
              "[]"
            ]
          },
          "metadata": {
            "tags": []
          },
          "execution_count": 4
        }
      ]
    },
    {
      "cell_type": "code",
      "metadata": {
        "id": "78y4PkfX0Whs",
        "outputId": "fdcba77b-23db-4708-bb31-e8216df6d3b3",
        "colab": {
          "base_uri": "https://localhost:8080/"
        }
      },
      "source": [
        "mylist3 = ['Cat', 12.3, True]\n",
        "mylist3"
      ],
      "execution_count": 6,
      "outputs": [
        {
          "output_type": "execute_result",
          "data": {
            "text/plain": [
              "['Cat', 12.3, True]"
            ]
          },
          "metadata": {
            "tags": []
          },
          "execution_count": 6
        }
      ]
    },
    {
      "cell_type": "code",
      "metadata": {
        "id": "3Qat4kkn0g4e",
        "outputId": "09e181b4-fda1-477f-e41c-cef8979c7938",
        "colab": {
          "base_uri": "https://localhost:8080/"
        }
      },
      "source": [
        "mylist[2]"
      ],
      "execution_count": 7,
      "outputs": [
        {
          "output_type": "execute_result",
          "data": {
            "text/plain": [
              "True"
            ]
          },
          "metadata": {
            "tags": []
          },
          "execution_count": 7
        }
      ]
    },
    {
      "cell_type": "code",
      "metadata": {
        "id": "gDFKBSya0kjw",
        "outputId": "246ef091-9fee-4d5b-8066-3dcefbe81b00",
        "colab": {
          "base_uri": "https://localhost:8080/"
        }
      },
      "source": [
        "mylist[-2]"
      ],
      "execution_count": 8,
      "outputs": [
        {
          "output_type": "execute_result",
          "data": {
            "text/plain": [
              "12.3"
            ]
          },
          "metadata": {
            "tags": []
          },
          "execution_count": 8
        }
      ]
    },
    {
      "cell_type": "code",
      "metadata": {
        "id": "uKz_Zz9Q0zOf",
        "outputId": "2b9f8605-ba3f-4a87-e16f-380bde13f027",
        "colab": {
          "base_uri": "https://localhost:8080/"
        }
      },
      "source": [
        "'Cat' in mylist3"
      ],
      "execution_count": 9,
      "outputs": [
        {
          "output_type": "execute_result",
          "data": {
            "text/plain": [
              "True"
            ]
          },
          "metadata": {
            "tags": []
          },
          "execution_count": 9
        }
      ]
    },
    {
      "cell_type": "code",
      "metadata": {
        "id": "4mEwSm9I09tc"
      },
      "source": [
        ""
      ],
      "execution_count": null,
      "outputs": []
    }
  ]
}